{
 "cells": [
  {
   "cell_type": "markdown",
   "metadata": {},
   "source": [
    "## All Techniques Of Hyper Parameter Optimization\n",
    "\n",
    "1.GridSearchCV\n",
    "\n",
    "2.RandomizedSearchCV\n",
    "\n",
    "3.Bayesian Optimization -Automate Hyperparameter Tuning (Hyperopt)\n",
    "\n",
    "4.Sequential Model Based Optimization(Tuning a scikit-learn estimator with skopt)\n",
    "\n",
    "5.Optuna- Automate Hyperparameter Tuning\n",
    "\n",
    "6.Genetic Algorithms (TPOT Classifier)\n"
   ]
  },
  {
   "cell_type": "code",
   "execution_count": 1,
   "metadata": {},
   "outputs": [],
   "source": [
    "import pandas as pd\n",
    "import numpy as np\n",
    "import seaborn as sns\n",
    "import matplotlib.pyplot as plt"
   ]
  },
  {
   "cell_type": "code",
   "execution_count": 2,
   "metadata": {},
   "outputs": [
    {
     "data": {
      "text/html": [
       "<div>\n",
       "<style scoped>\n",
       "    .dataframe tbody tr th:only-of-type {\n",
       "        vertical-align: middle;\n",
       "    }\n",
       "\n",
       "    .dataframe tbody tr th {\n",
       "        vertical-align: top;\n",
       "    }\n",
       "\n",
       "    .dataframe thead th {\n",
       "        text-align: right;\n",
       "    }\n",
       "</style>\n",
       "<table border=\"1\" class=\"dataframe\">\n",
       "  <thead>\n",
       "    <tr style=\"text-align: right;\">\n",
       "      <th></th>\n",
       "      <th>Pregnancies</th>\n",
       "      <th>Glucose</th>\n",
       "      <th>BloodPressure</th>\n",
       "      <th>SkinThickness</th>\n",
       "      <th>Insulin</th>\n",
       "      <th>BMI</th>\n",
       "      <th>DiabetesPedigreeFunction</th>\n",
       "      <th>Age</th>\n",
       "      <th>Outcome</th>\n",
       "    </tr>\n",
       "  </thead>\n",
       "  <tbody>\n",
       "    <tr>\n",
       "      <th>0</th>\n",
       "      <td>6</td>\n",
       "      <td>148</td>\n",
       "      <td>72</td>\n",
       "      <td>35</td>\n",
       "      <td>0</td>\n",
       "      <td>33.6</td>\n",
       "      <td>0.627</td>\n",
       "      <td>50</td>\n",
       "      <td>1</td>\n",
       "    </tr>\n",
       "    <tr>\n",
       "      <th>1</th>\n",
       "      <td>1</td>\n",
       "      <td>85</td>\n",
       "      <td>66</td>\n",
       "      <td>29</td>\n",
       "      <td>0</td>\n",
       "      <td>26.6</td>\n",
       "      <td>0.351</td>\n",
       "      <td>31</td>\n",
       "      <td>0</td>\n",
       "    </tr>\n",
       "    <tr>\n",
       "      <th>2</th>\n",
       "      <td>8</td>\n",
       "      <td>183</td>\n",
       "      <td>64</td>\n",
       "      <td>0</td>\n",
       "      <td>0</td>\n",
       "      <td>23.3</td>\n",
       "      <td>0.672</td>\n",
       "      <td>32</td>\n",
       "      <td>1</td>\n",
       "    </tr>\n",
       "    <tr>\n",
       "      <th>3</th>\n",
       "      <td>1</td>\n",
       "      <td>89</td>\n",
       "      <td>66</td>\n",
       "      <td>23</td>\n",
       "      <td>94</td>\n",
       "      <td>28.1</td>\n",
       "      <td>0.167</td>\n",
       "      <td>21</td>\n",
       "      <td>0</td>\n",
       "    </tr>\n",
       "    <tr>\n",
       "      <th>4</th>\n",
       "      <td>0</td>\n",
       "      <td>137</td>\n",
       "      <td>40</td>\n",
       "      <td>35</td>\n",
       "      <td>168</td>\n",
       "      <td>43.1</td>\n",
       "      <td>2.288</td>\n",
       "      <td>33</td>\n",
       "      <td>1</td>\n",
       "    </tr>\n",
       "  </tbody>\n",
       "</table>\n",
       "</div>"
      ],
      "text/plain": [
       "   Pregnancies  Glucose  BloodPressure  SkinThickness  Insulin   BMI  \\\n",
       "0            6      148             72             35        0  33.6   \n",
       "1            1       85             66             29        0  26.6   \n",
       "2            8      183             64              0        0  23.3   \n",
       "3            1       89             66             23       94  28.1   \n",
       "4            0      137             40             35      168  43.1   \n",
       "\n",
       "   DiabetesPedigreeFunction  Age  Outcome  \n",
       "0                     0.627   50        1  \n",
       "1                     0.351   31        0  \n",
       "2                     0.672   32        1  \n",
       "3                     0.167   21        0  \n",
       "4                     2.288   33        1  "
      ]
     },
     "execution_count": 2,
     "metadata": {},
     "output_type": "execute_result"
    }
   ],
   "source": [
    "df = pd.read_csv('diabetes.csv')\n",
    "\n",
    "df.head()"
   ]
  },
  {
   "cell_type": "code",
   "execution_count": 3,
   "metadata": {},
   "outputs": [
    {
     "name": "stdout",
     "output_type": "stream",
     "text": [
      "<class 'pandas.core.frame.DataFrame'>\n",
      "RangeIndex: 768 entries, 0 to 767\n",
      "Data columns (total 9 columns):\n",
      " #   Column                    Non-Null Count  Dtype  \n",
      "---  ------                    --------------  -----  \n",
      " 0   Pregnancies               768 non-null    int64  \n",
      " 1   Glucose                   768 non-null    int64  \n",
      " 2   BloodPressure             768 non-null    int64  \n",
      " 3   SkinThickness             768 non-null    int64  \n",
      " 4   Insulin                   768 non-null    int64  \n",
      " 5   BMI                       768 non-null    float64\n",
      " 6   DiabetesPedigreeFunction  768 non-null    float64\n",
      " 7   Age                       768 non-null    int64  \n",
      " 8   Outcome                   768 non-null    int64  \n",
      "dtypes: float64(2), int64(7)\n",
      "memory usage: 54.1 KB\n"
     ]
    }
   ],
   "source": [
    "df.info()"
   ]
  },
  {
   "cell_type": "code",
   "execution_count": 4,
   "metadata": {},
   "outputs": [
    {
     "data": {
      "text/html": [
       "<div>\n",
       "<style scoped>\n",
       "    .dataframe tbody tr th:only-of-type {\n",
       "        vertical-align: middle;\n",
       "    }\n",
       "\n",
       "    .dataframe tbody tr th {\n",
       "        vertical-align: top;\n",
       "    }\n",
       "\n",
       "    .dataframe thead th {\n",
       "        text-align: right;\n",
       "    }\n",
       "</style>\n",
       "<table border=\"1\" class=\"dataframe\">\n",
       "  <thead>\n",
       "    <tr style=\"text-align: right;\">\n",
       "      <th></th>\n",
       "      <th>Pregnancies</th>\n",
       "      <th>Glucose</th>\n",
       "      <th>BloodPressure</th>\n",
       "      <th>SkinThickness</th>\n",
       "      <th>Insulin</th>\n",
       "      <th>BMI</th>\n",
       "      <th>DiabetesPedigreeFunction</th>\n",
       "      <th>Age</th>\n",
       "      <th>Outcome</th>\n",
       "    </tr>\n",
       "  </thead>\n",
       "  <tbody>\n",
       "  </tbody>\n",
       "</table>\n",
       "</div>"
      ],
      "text/plain": [
       "Empty DataFrame\n",
       "Columns: [Pregnancies, Glucose, BloodPressure, SkinThickness, Insulin, BMI, DiabetesPedigreeFunction, Age, Outcome]\n",
       "Index: []"
      ]
     },
     "execution_count": 4,
     "metadata": {},
     "output_type": "execute_result"
    }
   ],
   "source": [
    "df[(df['Glucose']==0) | (df['Insulin']==0) | df['SkinThickness']==0]"
   ]
  },
  {
   "cell_type": "code",
   "execution_count": 5,
   "metadata": {},
   "outputs": [],
   "source": [
    "df['Glucose'] = np.where(df['Glucose']==0,df['Glucose'].median(),df['Glucose'])\n",
    "df['Insulin'] = np.where(df['Insulin']==0,df['Insulin'].median(),df['Insulin'])\n",
    "df['SkinThickness'] = np.where(df['SkinThickness']==0,df['SkinThickness'].median(),df['SkinThickness'])"
   ]
  },
  {
   "cell_type": "code",
   "execution_count": 6,
   "metadata": {},
   "outputs": [
    {
     "data": {
      "text/html": [
       "<div>\n",
       "<style scoped>\n",
       "    .dataframe tbody tr th:only-of-type {\n",
       "        vertical-align: middle;\n",
       "    }\n",
       "\n",
       "    .dataframe tbody tr th {\n",
       "        vertical-align: top;\n",
       "    }\n",
       "\n",
       "    .dataframe thead th {\n",
       "        text-align: right;\n",
       "    }\n",
       "</style>\n",
       "<table border=\"1\" class=\"dataframe\">\n",
       "  <thead>\n",
       "    <tr style=\"text-align: right;\">\n",
       "      <th></th>\n",
       "      <th>Pregnancies</th>\n",
       "      <th>Glucose</th>\n",
       "      <th>BloodPressure</th>\n",
       "      <th>SkinThickness</th>\n",
       "      <th>Insulin</th>\n",
       "      <th>BMI</th>\n",
       "      <th>DiabetesPedigreeFunction</th>\n",
       "      <th>Age</th>\n",
       "      <th>Outcome</th>\n",
       "    </tr>\n",
       "  </thead>\n",
       "  <tbody>\n",
       "  </tbody>\n",
       "</table>\n",
       "</div>"
      ],
      "text/plain": [
       "Empty DataFrame\n",
       "Columns: [Pregnancies, Glucose, BloodPressure, SkinThickness, Insulin, BMI, DiabetesPedigreeFunction, Age, Outcome]\n",
       "Index: []"
      ]
     },
     "execution_count": 6,
     "metadata": {},
     "output_type": "execute_result"
    }
   ],
   "source": [
    "df[(df['Glucose']==0) | (df['Insulin']==0) | df['SkinThickness']==0 ]"
   ]
  },
  {
   "cell_type": "code",
   "execution_count": 7,
   "metadata": {},
   "outputs": [],
   "source": [
    "X = df.drop('Outcome',axis=1)\n",
    "y = df['Outcome']"
   ]
  },
  {
   "cell_type": "code",
   "execution_count": 8,
   "metadata": {},
   "outputs": [],
   "source": [
    "from sklearn.model_selection import train_test_split\n",
    "\n",
    "X_train, X_test, y_train, y_test = train_test_split(X, y, test_size=0.20, random_state=42)"
   ]
  },
  {
   "cell_type": "code",
   "execution_count": 9,
   "metadata": {},
   "outputs": [],
   "source": [
    "from sklearn.ensemble import RandomForestClassifier\n",
    "\n",
    "rf = RandomForestClassifier()\n",
    "\n",
    "rf.fit(X_train,y_train)\n",
    "\n",
    "rf_predict = rf.predict(X_test)"
   ]
  },
  {
   "cell_type": "code",
   "execution_count": 10,
   "metadata": {},
   "outputs": [
    {
     "name": "stdout",
     "output_type": "stream",
     "text": [
      "              precision    recall  f1-score   support\n",
      "\n",
      "           0       0.80      0.79      0.80        99\n",
      "           1       0.63      0.65      0.64        55\n",
      "\n",
      "    accuracy                           0.74       154\n",
      "   macro avg       0.72      0.72      0.72       154\n",
      "weighted avg       0.74      0.74      0.74       154\n",
      "\n",
      "\n",
      "[[78 21]\n",
      " [19 36]]\n",
      "\n",
      "0.7402597402597403\n"
     ]
    }
   ],
   "source": [
    "from sklearn.metrics import classification_report,confusion_matrix,accuracy_score\n",
    "\n",
    "print(classification_report(y_test,rf_predict))\n",
    "print()\n",
    "print(confusion_matrix(y_test,rf_predict))\n",
    "print()\n",
    "print(accuracy_score(y_test,rf_predict))"
   ]
  },
  {
   "cell_type": "markdown",
   "metadata": {},
   "source": [
    "\n",
    "#### The main parameters used by a Random Forest Classifier are:\n",
    "\n",
    "criterion = the function used to evaluate the quality of a split.\n",
    "\n",
    "max_depth = maximum number of levels allowed in each tree.\n",
    "\n",
    "max_features = maximum number of features considered when splitting a node.\n",
    "\n",
    "min_samples_leaf = minimum number of samples which can be stored in a tree leaf.\n",
    "\n",
    "min_samples_split = minimum number of samples necessary in a node to cause node splitting.\n",
    "\n",
    "n_estimators = number of trees in the ensemble."
   ]
  },
  {
   "cell_type": "code",
   "execution_count": 11,
   "metadata": {},
   "outputs": [
    {
     "name": "stdout",
     "output_type": "stream",
     "text": [
      "[[81 18]\n",
      " [21 34]]\n",
      "\n",
      "\n",
      "0.7467532467532467\n",
      "\n",
      "\n",
      "              precision    recall  f1-score   support\n",
      "\n",
      "           0       0.79      0.82      0.81        99\n",
      "           1       0.65      0.62      0.64        55\n",
      "\n",
      "    accuracy                           0.75       154\n",
      "   macro avg       0.72      0.72      0.72       154\n",
      "weighted avg       0.74      0.75      0.75       154\n",
      "\n"
     ]
    }
   ],
   "source": [
    "### Manual Hyperparameter Tuning\n",
    "\n",
    "model=RandomForestClassifier(n_estimators=300,criterion='entropy',\n",
    "                             max_features='sqrt',min_samples_leaf=10,random_state=101)\n",
    "model.fit(X_train,y_train)\n",
    "\n",
    "predictions=model.predict(X_test)\n",
    "\n",
    "print(confusion_matrix(y_test,predictions))\n",
    "print('\\n')\n",
    "print(accuracy_score(y_test,predictions))\n",
    "print('\\n')\n",
    "print(classification_report(y_test,predictions))"
   ]
  },
  {
   "cell_type": "code",
   "execution_count": 12,
   "metadata": {},
   "outputs": [
    {
     "data": {
      "text/plain": [
       "[200, 400, 600, 800, 1000, 1200, 1400, 1600, 1800, 2000]"
      ]
     },
     "execution_count": 12,
     "metadata": {},
     "output_type": "execute_result"
    }
   ],
   "source": [
    "[int(x) for x in np.linspace(start = 200, stop = 2000, num = 10)]"
   ]
  },
  {
   "cell_type": "code",
   "execution_count": 13,
   "metadata": {},
   "outputs": [
    {
     "name": "stdout",
     "output_type": "stream",
     "text": [
      "{'n_estimators': [200, 400, 600, 800, 1000, 1200, 1400, 1600, 1800, 2000], 'max_features': ['auto', 'sqrt', 'log2'], 'max_depth': [10, 120, 230, 340, 450, 560, 670, 780, 890, 1000], 'min_samples_split': [2, 5, 10, 14], 'min_samples_leaf': [1, 2, 4, 6, 8], 'criterion': ['entropy', 'gini']}\n"
     ]
    }
   ],
   "source": [
    "from sklearn.model_selection import RandomizedSearchCV\n",
    "\n",
    "# Number of trees in random forest\n",
    "n_estimators = [int(x) for x in np.linspace(start = 200, stop = 2000, num = 10)]\n",
    "\n",
    "# Number of features to consider at every split\n",
    "max_features = ['auto', 'sqrt','log2']\n",
    "\n",
    "# Maximum number of levels in tree\n",
    "max_depth = [int(x) for x in np.linspace(10, 1000,10)]\n",
    "\n",
    "# Minimum number of samples required to split a node\n",
    "min_samples_split = [2, 5, 10,14]\n",
    "\n",
    "# Minimum number of samples required at each leaf node\n",
    "min_samples_leaf = [1, 2, 4,6,8]\n",
    "\n",
    "# Create the random grid\n",
    "random_grid = {'n_estimators': n_estimators,\n",
    "               'max_features': max_features,\n",
    "               'max_depth': max_depth,\n",
    "               'min_samples_split': min_samples_split,\n",
    "               'min_samples_leaf': min_samples_leaf,\n",
    "               'criterion':['entropy','gini']}\n",
    "\n",
    "print(random_grid)"
   ]
  },
  {
   "cell_type": "code",
   "execution_count": 14,
   "metadata": {},
   "outputs": [
    {
     "name": "stdout",
     "output_type": "stream",
     "text": [
      "Fitting 3 folds for each of 100 candidates, totalling 300 fits\n"
     ]
    },
    {
     "name": "stderr",
     "output_type": "stream",
     "text": [
      "[Parallel(n_jobs=-1)]: Using backend LokyBackend with 12 concurrent workers.\n",
      "[Parallel(n_jobs=-1)]: Done  17 tasks      | elapsed:   15.2s\n",
      "[Parallel(n_jobs=-1)]: Done 138 tasks      | elapsed:  1.2min\n",
      "[Parallel(n_jobs=-1)]: Done 300 out of 300 | elapsed:  2.7min finished\n"
     ]
    },
    {
     "data": {
      "text/plain": [
       "RandomizedSearchCV(cv=3, estimator=RandomForestClassifier(), n_iter=100,\n",
       "                   n_jobs=-1,\n",
       "                   param_distributions={'criterion': ['entropy', 'gini'],\n",
       "                                        'max_depth': [10, 120, 230, 340, 450,\n",
       "                                                      560, 670, 780, 890,\n",
       "                                                      1000],\n",
       "                                        'max_features': ['auto', 'sqrt',\n",
       "                                                         'log2'],\n",
       "                                        'min_samples_leaf': [1, 2, 4, 6, 8],\n",
       "                                        'min_samples_split': [2, 5, 10, 14],\n",
       "                                        'n_estimators': [200, 400, 600, 800,\n",
       "                                                         1000, 1200, 1400, 1600,\n",
       "                                                         1800, 2000]},\n",
       "                   random_state=100, verbose=2)"
      ]
     },
     "execution_count": 14,
     "metadata": {},
     "output_type": "execute_result"
    }
   ],
   "source": [
    "rf=RandomForestClassifier()\n",
    "rf_randomcv=RandomizedSearchCV(estimator=rf,param_distributions=random_grid,n_iter=100,cv=3,verbose=2,\n",
    "                               random_state=100,n_jobs=-1)\n",
    "### fit the randomized model\n",
    "rf_randomcv.fit(X_train,y_train)"
   ]
  },
  {
   "cell_type": "code",
   "execution_count": 15,
   "metadata": {},
   "outputs": [
    {
     "data": {
      "text/plain": [
       "{'n_estimators': 1800,\n",
       " 'min_samples_split': 2,\n",
       " 'min_samples_leaf': 1,\n",
       " 'max_features': 'log2',\n",
       " 'max_depth': 560,\n",
       " 'criterion': 'entropy'}"
      ]
     },
     "execution_count": 15,
     "metadata": {},
     "output_type": "execute_result"
    }
   ],
   "source": [
    "rf_randomcv.best_params_"
   ]
  },
  {
   "cell_type": "code",
   "execution_count": 16,
   "metadata": {},
   "outputs": [
    {
     "data": {
      "text/plain": [
       "RandomizedSearchCV(cv=3, estimator=RandomForestClassifier(), n_iter=100,\n",
       "                   n_jobs=-1,\n",
       "                   param_distributions={'criterion': ['entropy', 'gini'],\n",
       "                                        'max_depth': [10, 120, 230, 340, 450,\n",
       "                                                      560, 670, 780, 890,\n",
       "                                                      1000],\n",
       "                                        'max_features': ['auto', 'sqrt',\n",
       "                                                         'log2'],\n",
       "                                        'min_samples_leaf': [1, 2, 4, 6, 8],\n",
       "                                        'min_samples_split': [2, 5, 10, 14],\n",
       "                                        'n_estimators': [200, 400, 600, 800,\n",
       "                                                         1000, 1200, 1400, 1600,\n",
       "                                                         1800, 2000]},\n",
       "                   random_state=100, verbose=2)"
      ]
     },
     "execution_count": 16,
     "metadata": {},
     "output_type": "execute_result"
    }
   ],
   "source": [
    "rf_randomcv"
   ]
  },
  {
   "cell_type": "code",
   "execution_count": 17,
   "metadata": {},
   "outputs": [
    {
     "data": {
      "text/plain": [
       "RandomForestClassifier(criterion='entropy', max_depth=560, max_features='log2',\n",
       "                       n_estimators=1800)"
      ]
     },
     "execution_count": 17,
     "metadata": {},
     "output_type": "execute_result"
    }
   ],
   "source": [
    "rf_randomcv.best_estimator_"
   ]
  },
  {
   "cell_type": "code",
   "execution_count": 18,
   "metadata": {},
   "outputs": [],
   "source": [
    "best_random_grid=rf_randomcv.best_estimator_"
   ]
  },
  {
   "cell_type": "code",
   "execution_count": 19,
   "metadata": {},
   "outputs": [
    {
     "name": "stdout",
     "output_type": "stream",
     "text": [
      "[[79 20]\n",
      " [17 38]]\n",
      "\n",
      "\n",
      "0.7597402597402597\n",
      "\n",
      "\n",
      "              precision    recall  f1-score   support\n",
      "\n",
      "           0       0.82      0.80      0.81        99\n",
      "           1       0.66      0.69      0.67        55\n",
      "\n",
      "    accuracy                           0.76       154\n",
      "   macro avg       0.74      0.74      0.74       154\n",
      "weighted avg       0.76      0.76      0.76       154\n",
      "\n"
     ]
    }
   ],
   "source": [
    "from sklearn.metrics import accuracy_score\n",
    "\n",
    "y_pred=best_random_grid.predict(X_test)\n",
    "\n",
    "print(confusion_matrix(y_test,y_pred))\n",
    "print('\\n')\n",
    "print(accuracy_score(y_test,y_pred))\n",
    "print('\\n')\n",
    "print(classification_report(y_test,y_pred))"
   ]
  },
  {
   "cell_type": "code",
   "execution_count": null,
   "metadata": {},
   "outputs": [],
   "source": []
  },
  {
   "cell_type": "code",
   "execution_count": 20,
   "metadata": {},
   "outputs": [
    {
     "data": {
      "text/plain": [
       "{'n_estimators': 1800,\n",
       " 'min_samples_split': 2,\n",
       " 'min_samples_leaf': 1,\n",
       " 'max_features': 'log2',\n",
       " 'max_depth': 560,\n",
       " 'criterion': 'entropy'}"
      ]
     },
     "execution_count": 20,
     "metadata": {},
     "output_type": "execute_result"
    }
   ],
   "source": [
    "rf_randomcv.best_params_"
   ]
  },
  {
   "cell_type": "code",
   "execution_count": 21,
   "metadata": {},
   "outputs": [
    {
     "name": "stdout",
     "output_type": "stream",
     "text": [
      "{'criterion': ['entropy'], 'max_depth': [560], 'max_features': ['log2'], 'min_samples_leaf': [1, 3, 5], 'min_samples_split': [0, 1, 2, 3, 4], 'n_estimators': [1600, 1700, 1800, 1900, 2000]}\n"
     ]
    }
   ],
   "source": [
    "from sklearn.model_selection import GridSearchCV\n",
    "\n",
    "param_grid = {\n",
    "    'criterion': [rf_randomcv.best_params_['criterion']],\n",
    "\n",
    "    'max_depth': [rf_randomcv.best_params_['max_depth']],\n",
    "    \n",
    "    'max_features': [rf_randomcv.best_params_['max_features']],\n",
    "    \n",
    "    'min_samples_leaf': [rf_randomcv.best_params_['min_samples_leaf'], \n",
    "                         rf_randomcv.best_params_['min_samples_leaf']+2, \n",
    "                         rf_randomcv.best_params_['min_samples_leaf'] + 4],\n",
    "    \n",
    "    'min_samples_split': [rf_randomcv.best_params_['min_samples_split'] - 2,\n",
    "                          rf_randomcv.best_params_['min_samples_split'] - 1,\n",
    "                          rf_randomcv.best_params_['min_samples_split'], \n",
    "                          rf_randomcv.best_params_['min_samples_split'] +1,\n",
    "                          rf_randomcv.best_params_['min_samples_split'] + 2],\n",
    "    \n",
    "    'n_estimators': [rf_randomcv.best_params_['n_estimators'] - 200,\n",
    "                     rf_randomcv.best_params_['n_estimators'] - 100, \n",
    "                     rf_randomcv.best_params_['n_estimators'], \n",
    "                     rf_randomcv.best_params_['n_estimators'] + 100,\n",
    "                     rf_randomcv.best_params_['n_estimators'] + 200]\n",
    "}\n",
    "\n",
    "print(param_grid)"
   ]
  },
  {
   "cell_type": "code",
   "execution_count": 22,
   "metadata": {},
   "outputs": [
    {
     "name": "stdout",
     "output_type": "stream",
     "text": [
      "Fitting 10 folds for each of 75 candidates, totalling 750 fits\n"
     ]
    },
    {
     "name": "stderr",
     "output_type": "stream",
     "text": [
      "[Parallel(n_jobs=-1)]: Using backend LokyBackend with 12 concurrent workers.\n",
      "[Parallel(n_jobs=-1)]: Done  17 tasks      | elapsed:    4.0s\n",
      "[Parallel(n_jobs=-1)]: Done 138 tasks      | elapsed:  1.2min\n",
      "[Parallel(n_jobs=-1)]: Done 341 tasks      | elapsed:  3.3min\n",
      "[Parallel(n_jobs=-1)]: Done 624 tasks      | elapsed:  6.5min\n",
      "[Parallel(n_jobs=-1)]: Done 750 out of 750 | elapsed:  8.5min finished\n"
     ]
    },
    {
     "data": {
      "text/plain": [
       "GridSearchCV(cv=10, estimator=RandomForestClassifier(), n_jobs=-1,\n",
       "             param_grid={'criterion': ['entropy'], 'max_depth': [560],\n",
       "                         'max_features': ['log2'],\n",
       "                         'min_samples_leaf': [1, 3, 5],\n",
       "                         'min_samples_split': [0, 1, 2, 3, 4],\n",
       "                         'n_estimators': [1600, 1700, 1800, 1900, 2000]},\n",
       "             verbose=2)"
      ]
     },
     "execution_count": 22,
     "metadata": {},
     "output_type": "execute_result"
    }
   ],
   "source": [
    "#### Fit the grid_search to the data\n",
    "rf=RandomForestClassifier()\n",
    "grid_search=GridSearchCV(estimator=rf,param_grid=param_grid,cv=10,n_jobs=-1,verbose=2)\n",
    "grid_search.fit(X_train,y_train)"
   ]
  },
  {
   "cell_type": "code",
   "execution_count": 23,
   "metadata": {},
   "outputs": [
    {
     "data": {
      "text/plain": [
       "RandomForestClassifier(criterion='entropy', max_depth=560, max_features='log2',\n",
       "                       n_estimators=2000)"
      ]
     },
     "execution_count": 23,
     "metadata": {},
     "output_type": "execute_result"
    }
   ],
   "source": [
    "grid_search.best_estimator_"
   ]
  },
  {
   "cell_type": "code",
   "execution_count": 24,
   "metadata": {},
   "outputs": [],
   "source": [
    "best_grid = grid_search.best_estimator_"
   ]
  },
  {
   "cell_type": "code",
   "execution_count": 25,
   "metadata": {},
   "outputs": [
    {
     "data": {
      "text/plain": [
       "RandomForestClassifier(criterion='entropy', max_depth=560, max_features='log2',\n",
       "                       n_estimators=2000)"
      ]
     },
     "execution_count": 25,
     "metadata": {},
     "output_type": "execute_result"
    }
   ],
   "source": [
    "best_grid"
   ]
  },
  {
   "cell_type": "code",
   "execution_count": 26,
   "metadata": {},
   "outputs": [
    {
     "name": "stdout",
     "output_type": "stream",
     "text": [
      "[[79 20]\n",
      " [17 38]]\n",
      "\n",
      "\n",
      "0.7597402597402597\n",
      "\n",
      "\n",
      "              precision    recall  f1-score   support\n",
      "\n",
      "           0       0.82      0.80      0.81        99\n",
      "           1       0.66      0.69      0.67        55\n",
      "\n",
      "    accuracy                           0.76       154\n",
      "   macro avg       0.74      0.74      0.74       154\n",
      "weighted avg       0.76      0.76      0.76       154\n",
      "\n"
     ]
    }
   ],
   "source": [
    "y_pred=best_grid.predict(X_test)\n",
    "\n",
    "print(confusion_matrix(y_test,y_pred))\n",
    "print('\\n')\n",
    "print(accuracy_score(y_test,y_pred))\n",
    "print('\\n')\n",
    "print(classification_report(y_test,y_pred))"
   ]
  },
  {
   "cell_type": "code",
   "execution_count": null,
   "metadata": {},
   "outputs": [],
   "source": []
  },
  {
   "cell_type": "markdown",
   "metadata": {},
   "source": [
    "\n",
    "## Automated Hyperparameter Tuning\n",
    "\n",
    "Automated Hyperparameter Tuning can be done by using techniques such as\n",
    "\n",
    "1.Bayesian Optimization\n",
    "\n",
    "2.Gradient Descent\n",
    "\n",
    "3.Evolutionary Algorithms"
   ]
  },
  {
   "cell_type": "markdown",
   "metadata": {},
   "source": [
    "### Bayesian Optimization\n",
    "\n",
    "Bayesian optimization uses probability to find the minimum of a function. The final aim is to find the input value to a function which can gives us the lowest possible output value.It usually performs better than random,grid and manual search providing better performance in the testing phase and reduced optimization time. In Hyperopt, Bayesian Optimization can be implemented giving 3 three main parameters to the function fmin.\n",
    "\n",
    "Objective Function = defines the loss function to minimize.\n",
    "Domain Space = defines the range of input values to test (in Bayesian Optimization this space creates a probability distribution for each of the used Hyperparameters).\n",
    "\n",
    "Optimization Algorithm = defines the search algorithm to use to select the best input values to use in each new iteration."
   ]
  },
  {
   "cell_type": "code",
   "execution_count": 27,
   "metadata": {},
   "outputs": [],
   "source": [
    "from hyperopt import hp,fmin,tpe,STATUS_OK,Trials"
   ]
  },
  {
   "cell_type": "code",
   "execution_count": 28,
   "metadata": {},
   "outputs": [],
   "source": [
    "space = {'criterion': hp.choice('criterion', ['entropy', 'gini']),\n",
    "        'max_depth': hp.quniform('max_depth', 10, 1200, 10),\n",
    "        'max_features': hp.choice('max_features', ['auto', 'sqrt','log2', None]),\n",
    "        'min_samples_leaf': hp.uniform('min_samples_leaf', 0, 0.5),\n",
    "        'min_samples_split' : hp.uniform ('min_samples_split', 0, 1),\n",
    "        'n_estimators' : hp.choice('n_estimators', [10, 50, 300, 750, 1200,1300,1500])\n",
    "    }"
   ]
  },
  {
   "cell_type": "code",
   "execution_count": 29,
   "metadata": {},
   "outputs": [
    {
     "data": {
      "text/plain": [
       "{'criterion': <hyperopt.pyll.base.Apply at 0x22d7a808f88>,\n",
       " 'max_depth': <hyperopt.pyll.base.Apply at 0x22d7a80a408>,\n",
       " 'max_features': <hyperopt.pyll.base.Apply at 0x22d7a80aa88>,\n",
       " 'min_samples_leaf': <hyperopt.pyll.base.Apply at 0x22d7a80aec8>,\n",
       " 'min_samples_split': <hyperopt.pyll.base.Apply at 0x22d7a80c388>,\n",
       " 'n_estimators': <hyperopt.pyll.base.Apply at 0x22d7a80cd48>}"
      ]
     },
     "execution_count": 29,
     "metadata": {},
     "output_type": "execute_result"
    }
   ],
   "source": [
    "space"
   ]
  },
  {
   "cell_type": "code",
   "execution_count": 30,
   "metadata": {},
   "outputs": [],
   "source": [
    "\n",
    "def objective(space):\n",
    "    model = RandomForestClassifier(criterion = space['criterion'], max_depth = space['max_depth'],\n",
    "                                 max_features = space['max_features'],\n",
    "                                 min_samples_leaf = space['min_samples_leaf'],\n",
    "                                 min_samples_split = space['min_samples_split'],\n",
    "                                 n_estimators = space['n_estimators'], \n",
    "                                 )\n",
    "    \n",
    "    accuracy = cross_val_score(model, X_train, y_train, cv = 5).mean()\n",
    "\n",
    "    # We aim to maximize accuracy, therefore we return it as a negative value\n",
    "    return {'loss': -accuracy, 'status': STATUS_OK }"
   ]
  },
  {
   "cell_type": "code",
   "execution_count": 31,
   "metadata": {},
   "outputs": [
    {
     "name": "stdout",
     "output_type": "stream",
     "text": [
      "100%|███████████████████████████████████████████████| 80/80 [16:19<00:00, 12.24s/trial, best loss: -0.7833933093429295]\n"
     ]
    },
    {
     "data": {
      "text/plain": [
       "{'criterion': 1,\n",
       " 'max_depth': 390.0,\n",
       " 'max_features': 2,\n",
       " 'min_samples_leaf': 0.010473858676785672,\n",
       " 'min_samples_split': 0.007337695660802443,\n",
       " 'n_estimators': 6}"
      ]
     },
     "execution_count": 31,
     "metadata": {},
     "output_type": "execute_result"
    }
   ],
   "source": [
    "from sklearn.model_selection import cross_val_score\n",
    "trials = Trials()\n",
    "best = fmin(fn= objective,\n",
    "            space= space,\n",
    "            algo= tpe.suggest,\n",
    "            max_evals = 80,\n",
    "            trials= trials)\n",
    "best"
   ]
  },
  {
   "cell_type": "code",
   "execution_count": 32,
   "metadata": {},
   "outputs": [
    {
     "name": "stdout",
     "output_type": "stream",
     "text": [
      "gini\n",
      "log2\n",
      "1500\n"
     ]
    }
   ],
   "source": [
    "\n",
    "crit = {0: 'entropy', 1: 'gini'}\n",
    "feat = {0: 'auto', 1: 'sqrt', 2: 'log2', 3: None}\n",
    "est = {0: 10, 1: 50, 2: 300, 3: 750, 4: 1200,5:1300,6:1500}\n",
    "\n",
    "\n",
    "print(crit[best['criterion']])\n",
    "print(feat[best['max_features']])\n",
    "print(est[best['n_estimators']])"
   ]
  },
  {
   "cell_type": "code",
   "execution_count": 33,
   "metadata": {},
   "outputs": [
    {
     "data": {
      "text/plain": [
       "0.010473858676785672"
      ]
     },
     "execution_count": 33,
     "metadata": {},
     "output_type": "execute_result"
    }
   ],
   "source": [
    "\n",
    "best['min_samples_leaf']"
   ]
  },
  {
   "cell_type": "code",
   "execution_count": 34,
   "metadata": {},
   "outputs": [
    {
     "name": "stdout",
     "output_type": "stream",
     "text": [
      "[[81 18]\n",
      " [16 39]]\n",
      "\n",
      "\n",
      "0.7792207792207793\n",
      "              precision    recall  f1-score   support\n",
      "\n",
      "           0       0.84      0.82      0.83        99\n",
      "           1       0.68      0.71      0.70        55\n",
      "\n",
      "    accuracy                           0.78       154\n",
      "   macro avg       0.76      0.76      0.76       154\n",
      "weighted avg       0.78      0.78      0.78       154\n",
      "\n"
     ]
    }
   ],
   "source": [
    "trainedforest = RandomForestClassifier(criterion = crit[best['criterion']], max_depth = best['max_depth'], \n",
    "                                       max_features = feat[best['max_features']], \n",
    "                                       min_samples_leaf = best['min_samples_leaf'], \n",
    "                                       min_samples_split = best['min_samples_split'], \n",
    "                                       n_estimators = est[best['n_estimators']]).fit(X_train,y_train)\n",
    "\n",
    "predictionforest = trainedforest.predict(X_test)\n",
    "print(confusion_matrix(y_test,predictionforest))\n",
    "print('\\n')\n",
    "print(accuracy_score(y_test,predictionforest))\n",
    "\n",
    "print(classification_report(y_test,predictionforest))\n",
    "acc5 = accuracy_score(y_test,predictionforest)"
   ]
  },
  {
   "cell_type": "code",
   "execution_count": null,
   "metadata": {},
   "outputs": [],
   "source": []
  },
  {
   "cell_type": "markdown",
   "metadata": {},
   "source": [
    "## Genetic Algorithms\n",
    "\n",
    "##### Genetic Algorithms tries to apply natural selection mechanisms to Machine Learning contexts.\n",
    "\n",
    "\n",
    "Let's immagine we create a population of N Machine Learning models with some predifined Hyperparameters. We can then calculate the accuracy of each model and decide to keep just half of the models (the ones that performs best). We can now generate some offsprings having similar Hyperparameters to the ones of the best models so that go get again a population of N models. At this point we can again caltulate the accuracy of each model and repeate the cycle for a defined number of generations. In this way, just the best models will survive at the end of the process."
   ]
  },
  {
   "cell_type": "code",
   "execution_count": 35,
   "metadata": {},
   "outputs": [
    {
     "name": "stdout",
     "output_type": "stream",
     "text": [
      "{'n_estimators': [200, 400, 600, 800, 1000, 1200, 1400, 1600, 1800, 2000], 'max_features': ['auto', 'sqrt', 'log2'], 'max_depth': [10, 120, 230, 340, 450, 560, 670, 780, 890, 1000], 'min_samples_split': [2, 5, 10, 14], 'min_samples_leaf': [1, 2, 4, 6, 8], 'criterion': ['entropy', 'gini']}\n"
     ]
    }
   ],
   "source": [
    "# Number of trees in random forest\n",
    "n_estimators = [int(x) for x in np.linspace(start = 200, stop = 2000, num = 10)]\n",
    "\\\n",
    "# Number of features to consider at every split\n",
    "max_features = ['auto', 'sqrt','log2']\n",
    "\n",
    "# Maximum number of levels in tree\n",
    "max_depth = [int(x) for x in np.linspace(10, 1000,10)]\n",
    "\n",
    "# Minimum number of samples required to split a node\n",
    "min_samples_split = [2, 5, 10,14]\n",
    "\n",
    "# Minimum number of samples required at each leaf node\n",
    "min_samples_leaf = [1, 2, 4,6,8]\n",
    "\n",
    "# Create the random grid\n",
    "param = {'n_estimators': n_estimators,\n",
    "               'max_features': max_features,\n",
    "               'max_depth': max_depth,\n",
    "               'min_samples_split': min_samples_split,\n",
    "               'min_samples_leaf': min_samples_leaf,\n",
    "              'criterion':['entropy','gini']}\n",
    "print(param)"
   ]
  },
  {
   "cell_type": "code",
   "execution_count": 36,
   "metadata": {},
   "outputs": [
    {
     "name": "stderr",
     "output_type": "stream",
     "text": [
      "C:\\Users\\User\\anaconda3\\lib\\site-packages\\tpot\\builtins\\__init__.py:36: UserWarning: Warning: optional dependency `torch` is not available. - skipping import of NN models.\n",
      "  warnings.warn(\"Warning: optional dependency `torch` is not available. - skipping import of NN models.\")\n"
     ]
    },
    {
     "data": {
      "application/vnd.jupyter.widget-view+json": {
       "model_id": "",
       "version_major": 2,
       "version_minor": 0
      },
      "text/plain": [
       "HBox(children=(FloatProgress(value=0.0, description='Optimization Progress', max=84.0, style=ProgressStyle(des…"
      ]
     },
     "metadata": {},
     "output_type": "display_data"
    },
    {
     "name": "stdout",
     "output_type": "stream",
     "text": [
      "\n",
      "Generation 1 - Current best internal CV score: 0.7882501485442661\n",
      "\n",
      "Generation 2 - Current best internal CV score: 0.7882501485442661\n",
      "\n",
      "Generation 3 - Current best internal CV score: 0.793120278414396\n",
      "\n",
      "Generation 4 - Current best internal CV score: 0.793120278414396\n",
      "\n",
      "Generation 5 - Current best internal CV score: 0.793120278414396\n",
      "\n",
      "Best pipeline: RandomForestClassifier(CombineDFs(input_matrix, input_matrix), criterion=entropy, max_depth=10, max_features=auto, min_samples_leaf=1, min_samples_split=14, n_estimators=1000)\n"
     ]
    },
    {
     "data": {
      "text/plain": [
       "TPOTClassifier(config_dict={'sklearn.ensemble.RandomForestClassifier': {'criterion': ['entropy',\n",
       "                                                                                      'gini'],\n",
       "                                                                        'max_depth': [10,\n",
       "                                                                                      120,\n",
       "                                                                                      230,\n",
       "                                                                                      340,\n",
       "                                                                                      450,\n",
       "                                                                                      560,\n",
       "                                                                                      670,\n",
       "                                                                                      780,\n",
       "                                                                                      890,\n",
       "                                                                                      1000],\n",
       "                                                                        'max_features': ['auto',\n",
       "                                                                                         'sqrt',\n",
       "                                                                                         'log2'],\n",
       "                                                                        'min_samples_leaf': [1,\n",
       "                                                                                             2,\n",
       "                                                                                             4,\n",
       "                                                                                             6,\n",
       "                                                                                             8],\n",
       "                                                                        'min_samples_split': [2,\n",
       "                                                                                              5,\n",
       "                                                                                              10,\n",
       "                                                                                              14],\n",
       "                                                                        'n_estimators': [200,\n",
       "                                                                                         400,\n",
       "                                                                                         600,\n",
       "                                                                                         800,\n",
       "                                                                                         1000,\n",
       "                                                                                         1200,\n",
       "                                                                                         1400,\n",
       "                                                                                         1600,\n",
       "                                                                                         1800,\n",
       "                                                                                         2000]}},\n",
       "               cv=4, early_stop=12, generations=5, offspring_size=12,\n",
       "               population_size=24, scoring='accuracy', verbosity=2)"
      ]
     },
     "execution_count": 36,
     "metadata": {},
     "output_type": "execute_result"
    }
   ],
   "source": [
    "from tpot import TPOTClassifier\n",
    "\n",
    "\n",
    "tpot_classifier = TPOTClassifier(generations= 5, population_size= 24, offspring_size= 12,\n",
    "                                 verbosity= 2, early_stop= 12,\n",
    "                                 config_dict={'sklearn.ensemble.RandomForestClassifier': param}, \n",
    "                                 cv = 4, scoring = 'accuracy')\n",
    "tpot_classifier.fit(X_train,y_train)"
   ]
  },
  {
   "cell_type": "code",
   "execution_count": 37,
   "metadata": {},
   "outputs": [
    {
     "data": {
      "text/plain": [
       "<bound method BaseEstimator.get_params of TPOTClassifier(config_dict={'sklearn.ensemble.RandomForestClassifier': {'criterion': ['entropy',\n",
       "                                                                                      'gini'],\n",
       "                                                                        'max_depth': [10,\n",
       "                                                                                      120,\n",
       "                                                                                      230,\n",
       "                                                                                      340,\n",
       "                                                                                      450,\n",
       "                                                                                      560,\n",
       "                                                                                      670,\n",
       "                                                                                      780,\n",
       "                                                                                      890,\n",
       "                                                                                      1000],\n",
       "                                                                        'max_features': ['auto',\n",
       "                                                                                         'sqrt',\n",
       "                                                                                         'log2'],\n",
       "                                                                        'min_samples_leaf': [1,\n",
       "                                                                                             2,\n",
       "                                                                                             4,\n",
       "                                                                                             6,\n",
       "                                                                                             8],\n",
       "                                                                        'min_samples_split': [2,\n",
       "                                                                                              5,\n",
       "                                                                                              10,\n",
       "                                                                                              14],\n",
       "                                                                        'n_estimators': [200,\n",
       "                                                                                         400,\n",
       "                                                                                         600,\n",
       "                                                                                         800,\n",
       "                                                                                         1000,\n",
       "                                                                                         1200,\n",
       "                                                                                         1400,\n",
       "                                                                                         1600,\n",
       "                                                                                         1800,\n",
       "                                                                                         2000]}},\n",
       "               cv=4, early_stop=12, generations=5, offspring_size=12,\n",
       "               population_size=24, scoring='accuracy', verbosity=2)>"
      ]
     },
     "execution_count": 37,
     "metadata": {},
     "output_type": "execute_result"
    }
   ],
   "source": [
    "tpot_classifier.get_params"
   ]
  },
  {
   "cell_type": "code",
   "execution_count": 38,
   "metadata": {},
   "outputs": [
    {
     "name": "stdout",
     "output_type": "stream",
     "text": [
      "0.7662337662337663\n"
     ]
    }
   ],
   "source": [
    "accuracy = tpot_classifier.score(X_test, y_test)\n",
    "print(accuracy)"
   ]
  },
  {
   "cell_type": "code",
   "execution_count": null,
   "metadata": {},
   "outputs": [],
   "source": []
  },
  {
   "cell_type": "markdown",
   "metadata": {},
   "source": [
    "## Optimize hyperparameters of the model using Optuna\n",
    "The hyperparameters of the above algorithm are n_estimators and max_depth for which we can try different values to see if the model accuracy can be improved. The objective function is modified to accept a trial object. This trial has several methods for sampling hyperparameters. We create a study to run the hyperparameter optimization and finally read the best hyperparameters."
   ]
  },
  {
   "cell_type": "code",
   "execution_count": 41,
   "metadata": {},
   "outputs": [],
   "source": [
    "\n",
    "import optuna\n",
    "import sklearn.svm\n",
    "def objective(trial):\n",
    "\n",
    "    classifier = trial.suggest_categorical('classifier', ['RandomForest', 'SVC'])\n",
    "    \n",
    "    if classifier == 'RandomForest':\n",
    "        n_estimators = trial.suggest_int('n_estimators', 200, 2000,10)\n",
    "        max_depth = int(trial.suggest_float('max_depth', 10, 100, log=True))\n",
    "\n",
    "        clf = sklearn.ensemble.RandomForestClassifier(\n",
    "            n_estimators=n_estimators, max_depth=max_depth)\n",
    "    else:\n",
    "        c = trial.suggest_float('svc_c', 1e-10, 1e10, log=True)\n",
    "        \n",
    "        clf = sklearn.svm.SVC(C=c, gamma='auto')\n",
    "\n",
    "    return sklearn.model_selection.cross_val_score(\n",
    "        clf,X_train,y_train, n_jobs=-1, cv=3).mean()"
   ]
  },
  {
   "cell_type": "code",
   "execution_count": 42,
   "metadata": {},
   "outputs": [
    {
     "name": "stderr",
     "output_type": "stream",
     "text": [
      "\u001b[32m[I 2020-11-02 09:18:24,826]\u001b[0m A new study created in memory with name: no-name-fb519756-d0fb-44b5-8d91-c54bb2e12940\u001b[0m\n",
      "\u001b[32m[I 2020-11-02 09:18:28,784]\u001b[0m Trial 0 finished with value: 0.6530926191614858 and parameters: {'classifier': 'SVC', 'svc_c': 1.2702127706939833e-06}. Best is trial 0 with value: 0.6530926191614858.\u001b[0m\n",
      "\u001b[32m[I 2020-11-02 09:18:31,759]\u001b[0m Trial 1 finished with value: 0.6530926191614858 and parameters: {'classifier': 'SVC', 'svc_c': 10001.309986371507}. Best is trial 0 with value: 0.6530926191614858.\u001b[0m\n",
      "\u001b[32m[I 2020-11-02 09:18:38,847]\u001b[0m Trial 2 finished with value: 0.780121154152718 and parameters: {'classifier': 'RandomForest', 'n_estimators': 900, 'max_depth': 76.15199977393446}. Best is trial 2 with value: 0.780121154152718.\u001b[0m\n",
      "\u001b[32m[I 2020-11-02 09:18:44,709]\u001b[0m Trial 3 finished with value: 0.7833652160051012 and parameters: {'classifier': 'RandomForest', 'n_estimators': 550, 'max_depth': 88.5010659302041}. Best is trial 3 with value: 0.7833652160051012.\u001b[0m\n",
      "\u001b[32m[I 2020-11-02 09:18:47,299]\u001b[0m Trial 4 finished with value: 0.7849992029332058 and parameters: {'classifier': 'RandomForest', 'n_estimators': 480, 'max_depth': 19.790201211295038}. Best is trial 4 with value: 0.7849992029332058.\u001b[0m\n",
      "\u001b[32m[I 2020-11-02 09:18:47,398]\u001b[0m Trial 5 finished with value: 0.6530926191614858 and parameters: {'classifier': 'SVC', 'svc_c': 223967.87363831955}. Best is trial 4 with value: 0.7849992029332058.\u001b[0m\n",
      "\u001b[32m[I 2020-11-02 09:18:48,468]\u001b[0m Trial 6 finished with value: 0.7670731707317073 and parameters: {'classifier': 'RandomForest', 'n_estimators': 220, 'max_depth': 18.61940917602281}. Best is trial 4 with value: 0.7849992029332058.\u001b[0m\n",
      "\u001b[32m[I 2020-11-02 09:18:48,542]\u001b[0m Trial 7 finished with value: 0.6530926191614858 and parameters: {'classifier': 'SVC', 'svc_c': 5.988544800807706e-10}. Best is trial 4 with value: 0.7849992029332058.\u001b[0m\n",
      "\u001b[32m[I 2020-11-02 09:18:48,625]\u001b[0m Trial 8 finished with value: 0.6530926191614858 and parameters: {'classifier': 'SVC', 'svc_c': 0.21509171379824488}. Best is trial 4 with value: 0.7849992029332058.\u001b[0m\n",
      "\u001b[32m[I 2020-11-02 09:18:51,099]\u001b[0m Trial 9 finished with value: 0.771967160848079 and parameters: {'classifier': 'RandomForest', 'n_estimators': 480, 'max_depth': 20.81719897651086}. Best is trial 4 with value: 0.7849992029332058.\u001b[0m\n",
      "\u001b[32m[I 2020-11-02 09:19:00,400]\u001b[0m Trial 10 finished with value: 0.7817551410808226 and parameters: {'classifier': 'RandomForest', 'n_estimators': 1900, 'max_depth': 12.002084241131415}. Best is trial 4 with value: 0.7849992029332058.\u001b[0m\n",
      "\u001b[32m[I 2020-11-02 09:19:04,237]\u001b[0m Trial 11 finished with value: 0.7768611509644509 and parameters: {'classifier': 'RandomForest', 'n_estimators': 760, 'max_depth': 59.65049266565251}. Best is trial 4 with value: 0.7849992029332058.\u001b[0m\n",
      "\u001b[32m[I 2020-11-02 09:19:11,737]\u001b[0m Trial 12 finished with value: 0.7833731866730432 and parameters: {'classifier': 'RandomForest', 'n_estimators': 1470, 'max_depth': 42.051664938049406}. Best is trial 4 with value: 0.7849992029332058.\u001b[0m\n",
      "\u001b[32m[I 2020-11-02 09:19:19,405]\u001b[0m Trial 13 finished with value: 0.7736091184441256 and parameters: {'classifier': 'RandomForest', 'n_estimators': 1520, 'max_depth': 39.098088068041356}. Best is trial 4 with value: 0.7849992029332058.\u001b[0m\n",
      "\u001b[32m[I 2020-11-02 09:19:26,124]\u001b[0m Trial 14 finished with value: 0.7768531802965088 and parameters: {'classifier': 'RandomForest', 'n_estimators': 1320, 'max_depth': 34.07082714619116}. Best is trial 4 with value: 0.7849992029332058.\u001b[0m\n",
      "\u001b[32m[I 2020-11-02 09:19:34,687]\u001b[0m Trial 15 finished with value: 0.7752431053722302 and parameters: {'classifier': 'RandomForest', 'n_estimators': 1760, 'max_depth': 21.87817384024649}. Best is trial 4 with value: 0.7849992029332058.\u001b[0m\n",
      "\u001b[32m[I 2020-11-02 09:19:40,319]\u001b[0m Trial 16 finished with value: 0.7817391997449387 and parameters: {'classifier': 'RandomForest', 'n_estimators': 1190, 'max_depth': 49.434945616436465}. Best is trial 4 with value: 0.7849992029332058.\u001b[0m\n",
      "\u001b[32m[I 2020-11-02 09:19:47,670]\u001b[0m Trial 17 finished with value: 0.7752431053722302 and parameters: {'classifier': 'RandomForest', 'n_estimators': 1500, 'max_depth': 11.069217196962173}. Best is trial 4 with value: 0.7849992029332058.\u001b[0m\n",
      "\u001b[32m[I 2020-11-02 09:19:52,115]\u001b[0m Trial 18 finished with value: 0.7768691216323927 and parameters: {'classifier': 'RandomForest', 'n_estimators': 930, 'max_depth': 27.318737485297113}. Best is trial 4 with value: 0.7849992029332058.\u001b[0m\n",
      "\u001b[32m[I 2020-11-02 09:19:59,520]\u001b[0m Trial 19 finished with value: 0.7817471704128806 and parameters: {'classifier': 'RandomForest', 'n_estimators': 1630, 'max_depth': 15.941240482989352}. Best is trial 4 with value: 0.7849992029332058.\u001b[0m\n",
      "\u001b[32m[I 2020-11-02 09:20:00,645]\u001b[0m Trial 20 finished with value: 0.7752112227004623 and parameters: {'classifier': 'RandomForest', 'n_estimators': 210, 'max_depth': 28.380685234040172}. Best is trial 4 with value: 0.7849992029332058.\u001b[0m\n",
      "\u001b[32m[I 2020-11-02 09:20:03,395]\u001b[0m Trial 21 finished with value: 0.7817391997449387 and parameters: {'classifier': 'RandomForest', 'n_estimators': 550, 'max_depth': 77.1974969167945}. Best is trial 4 with value: 0.7849992029332058.\u001b[0m\n",
      "\u001b[32m[I 2020-11-02 09:20:05,747]\u001b[0m Trial 22 finished with value: 0.7703411445879165 and parameters: {'classifier': 'RandomForest', 'n_estimators': 460, 'max_depth': 96.77848441237505}. Best is trial 4 with value: 0.7849992029332058.\u001b[0m\n",
      "\u001b[32m[I 2020-11-02 09:20:08,853]\u001b[0m Trial 23 finished with value: 0.7866172485254265 and parameters: {'classifier': 'RandomForest', 'n_estimators': 670, 'max_depth': 43.57509374276751}. Best is trial 23 with value: 0.7866172485254265.\u001b[0m\n",
      "\u001b[32m[I 2020-11-02 09:20:12,519]\u001b[0m Trial 24 finished with value: 0.7801052128168341 and parameters: {'classifier': 'RandomForest', 'n_estimators': 750, 'max_depth': 42.759165060199}. Best is trial 23 with value: 0.7866172485254265.\u001b[0m\n",
      "\u001b[32m[I 2020-11-02 09:20:18,028]\u001b[0m Trial 25 finished with value: 0.7850071736011478 and parameters: {'classifier': 'RandomForest', 'n_estimators': 1260, 'max_depth': 50.65793779940506}. Best is trial 23 with value: 0.7866172485254265.\u001b[0m\n",
      "\u001b[32m[I 2020-11-02 09:20:23,118]\u001b[0m Trial 26 finished with value: 0.7768691216323927 and parameters: {'classifier': 'RandomForest', 'n_estimators': 1080, 'max_depth': 57.52425449458189}. Best is trial 23 with value: 0.7866172485254265.\u001b[0m\n",
      "\u001b[32m[I 2020-11-02 09:20:25,000]\u001b[0m Trial 27 finished with value: 0.7752271640363463 and parameters: {'classifier': 'RandomForest', 'n_estimators': 360, 'max_depth': 58.14932101267681}. Best is trial 23 with value: 0.7866172485254265.\u001b[0m\n",
      "\u001b[32m[I 2020-11-02 09:20:28,265]\u001b[0m Trial 28 finished with value: 0.7866092778574845 and parameters: {'classifier': 'RandomForest', 'n_estimators': 680, 'max_depth': 15.202604686844085}. Best is trial 23 with value: 0.7866172485254265.\u001b[0m\n",
      "\u001b[32m[I 2020-11-02 09:20:28,361]\u001b[0m Trial 29 finished with value: 0.6530926191614858 and parameters: {'classifier': 'SVC', 'svc_c': 3473816017.528377}. Best is trial 23 with value: 0.7866172485254265.\u001b[0m\n",
      "\u001b[32m[I 2020-11-02 09:20:31,676]\u001b[0m Trial 30 finished with value: 0.7736011477761836 and parameters: {'classifier': 'RandomForest', 'n_estimators': 720, 'max_depth': 33.60767509728927}. Best is trial 23 with value: 0.7866172485254265.\u001b[0m\n",
      "\u001b[32m[I 2020-11-02 09:20:35,941]\u001b[0m Trial 31 finished with value: 0.7817312290769967 and parameters: {'classifier': 'RandomForest', 'n_estimators': 950, 'max_depth': 15.596618373912271}. Best is trial 23 with value: 0.7866172485254265.\u001b[0m\n",
      "\u001b[32m[I 2020-11-02 09:20:37,612]\u001b[0m Trial 32 finished with value: 0.780113183484776 and parameters: {'classifier': 'RandomForest', 'n_estimators': 330, 'max_depth': 13.120253010668572}. Best is trial 23 with value: 0.7866172485254265.\u001b[0m\n",
      "\u001b[32m[I 2020-11-02 09:20:40,944]\u001b[0m Trial 33 finished with value: 0.7768770923003347 and parameters: {'classifier': 'RandomForest', 'n_estimators': 670, 'max_depth': 26.54614536100814}. Best is trial 23 with value: 0.7866172485254265.\u001b[0m\n",
      "\u001b[32m[I 2020-11-02 09:20:46,066]\u001b[0m Trial 34 finished with value: 0.7833731866730432 and parameters: {'classifier': 'RandomForest', 'n_estimators': 1140, 'max_depth': 15.33835110681817}. Best is trial 23 with value: 0.7866172485254265.\u001b[0m\n"
     ]
    },
    {
     "name": "stderr",
     "output_type": "stream",
     "text": [
      "\u001b[32m[I 2020-11-02 09:20:49,139]\u001b[0m Trial 35 finished with value: 0.7768611509644509 and parameters: {'classifier': 'RandomForest', 'n_estimators': 630, 'max_depth': 52.67742157667843}. Best is trial 23 with value: 0.7866172485254265.\u001b[0m\n",
      "\u001b[32m[I 2020-11-02 09:20:49,234]\u001b[0m Trial 36 finished with value: 0.6530926191614858 and parameters: {'classifier': 'SVC', 'svc_c': 0.009389111785851188}. Best is trial 23 with value: 0.7866172485254265.\u001b[0m\n",
      "\u001b[32m[I 2020-11-02 09:20:53,956]\u001b[0m Trial 37 finished with value: 0.7817471704128806 and parameters: {'classifier': 'RandomForest', 'n_estimators': 1000, 'max_depth': 71.14915506378246}. Best is trial 23 with value: 0.7866172485254265.\u001b[0m\n",
      "\u001b[32m[I 2020-11-02 09:20:59,747]\u001b[0m Trial 38 finished with value: 0.7784871672246134 and parameters: {'classifier': 'RandomForest', 'n_estimators': 1270, 'max_depth': 24.181515880921374}. Best is trial 23 with value: 0.7866172485254265.\u001b[0m\n",
      "\u001b[32m[I 2020-11-02 09:20:59,822]\u001b[0m Trial 39 finished with value: 0.6530926191614858 and parameters: {'classifier': 'SVC', 'svc_c': 1.1036439935817504e-10}. Best is trial 23 with value: 0.7866172485254265.\u001b[0m\n",
      "\u001b[32m[I 2020-11-02 09:21:03,785]\u001b[0m Trial 40 finished with value: 0.7752191933684043 and parameters: {'classifier': 'RandomForest', 'n_estimators': 830, 'max_depth': 47.10147288926293}. Best is trial 23 with value: 0.7866172485254265.\u001b[0m\n",
      "\u001b[32m[I 2020-11-02 09:21:09,087]\u001b[0m Trial 41 finished with value: 0.78012912482066 and parameters: {'classifier': 'RandomForest', 'n_estimators': 1120, 'max_depth': 14.768553687632851}. Best is trial 23 with value: 0.7866172485254265.\u001b[0m\n",
      "\u001b[32m[I 2020-11-02 09:21:15,189]\u001b[0m Trial 42 finished with value: 0.7817391997449387 and parameters: {'classifier': 'RandomForest', 'n_estimators': 1310, 'max_depth': 18.317697786158533}. Best is trial 23 with value: 0.7866172485254265.\u001b[0m\n",
      "\u001b[32m[I 2020-11-02 09:21:19,365]\u001b[0m Trial 43 finished with value: 0.7833731866730432 and parameters: {'classifier': 'RandomForest', 'n_estimators': 870, 'max_depth': 17.65960119692273}. Best is trial 23 with value: 0.7866172485254265.\u001b[0m\n",
      "\u001b[32m[I 2020-11-02 09:21:22,299]\u001b[0m Trial 44 finished with value: 0.7784791965566714 and parameters: {'classifier': 'RandomForest', 'n_estimators': 580, 'max_depth': 18.722204877055717}. Best is trial 23 with value: 0.7866172485254265.\u001b[0m\n",
      "\u001b[32m[I 2020-11-02 09:21:24,390]\u001b[0m Trial 45 finished with value: 0.7752510760401722 and parameters: {'classifier': 'RandomForest', 'n_estimators': 420, 'max_depth': 13.467568329031893}. Best is trial 23 with value: 0.7866172485254265.\u001b[0m\n",
      "\u001b[32m[I 2020-11-02 09:21:28,562]\u001b[0m Trial 46 finished with value: 0.7752431053722302 and parameters: {'classifier': 'RandomForest', 'n_estimators': 860, 'max_depth': 10.011532140719554}. Best is trial 23 with value: 0.7866172485254265.\u001b[0m\n",
      "\u001b[32m[I 2020-11-02 09:21:35,240]\u001b[0m Trial 47 finished with value: 0.7784791965566714 and parameters: {'classifier': 'RandomForest', 'n_estimators': 1390, 'max_depth': 43.69882401974182}. Best is trial 23 with value: 0.7866172485254265.\u001b[0m\n",
      "\u001b[32m[I 2020-11-02 09:21:35,336]\u001b[0m Trial 48 finished with value: 0.6530926191614858 and parameters: {'classifier': 'SVC', 'svc_c': 5119015757.801583}. Best is trial 23 with value: 0.7866172485254265.\u001b[0m\n",
      "\u001b[32m[I 2020-11-02 09:21:39,191]\u001b[0m Trial 49 finished with value: 0.7850071736011478 and parameters: {'classifier': 'RandomForest', 'n_estimators': 830, 'max_depth': 37.22123961425231}. Best is trial 23 with value: 0.7866172485254265.\u001b[0m\n",
      "\u001b[32m[I 2020-11-02 09:21:40,789]\u001b[0m Trial 50 finished with value: 0.7736011477761836 and parameters: {'classifier': 'RandomForest', 'n_estimators': 310, 'max_depth': 35.73393504822102}. Best is trial 23 with value: 0.7866172485254265.\u001b[0m\n",
      "\u001b[32m[I 2020-11-02 09:21:45,933]\u001b[0m Trial 51 finished with value: 0.7784951378925554 and parameters: {'classifier': 'RandomForest', 'n_estimators': 1050, 'max_depth': 37.71829020116509}. Best is trial 23 with value: 0.7866172485254265.\u001b[0m\n",
      "\u001b[32m[I 2020-11-02 09:21:48,300]\u001b[0m Trial 52 finished with value: 0.780121154152718 and parameters: {'classifier': 'RandomForest', 'n_estimators': 500, 'max_depth': 30.310169174393412}. Best is trial 23 with value: 0.7866172485254265.\u001b[0m\n",
      "\u001b[32m[I 2020-11-02 09:21:52,285]\u001b[0m Trial 53 finished with value: 0.7866331898613104 and parameters: {'classifier': 'RandomForest', 'n_estimators': 810, 'max_depth': 22.167110521789635}. Best is trial 53 with value: 0.7866331898613104.\u001b[0m\n",
      "\u001b[32m[I 2020-11-02 09:21:56,014]\u001b[0m Trial 54 finished with value: 0.780113183484776 and parameters: {'classifier': 'RandomForest', 'n_estimators': 780, 'max_depth': 19.547121272141705}. Best is trial 53 with value: 0.7866331898613104.\u001b[0m\n",
      "\u001b[32m[I 2020-11-02 09:21:59,307]\u001b[0m Trial 55 finished with value: 0.780121154152718 and parameters: {'classifier': 'RandomForest', 'n_estimators': 700, 'max_depth': 22.13985948660538}. Best is trial 53 with value: 0.7866331898613104.\u001b[0m\n",
      "\u001b[32m[I 2020-11-02 09:22:02,398]\u001b[0m Trial 56 finished with value: 0.780113183484776 and parameters: {'classifier': 'RandomForest', 'n_estimators': 620, 'max_depth': 24.857504960404157}. Best is trial 53 with value: 0.7866331898613104.\u001b[0m\n",
      "\u001b[32m[I 2020-11-02 09:22:05,009]\u001b[0m Trial 57 finished with value: 0.78012912482066 and parameters: {'classifier': 'RandomForest', 'n_estimators': 520, 'max_depth': 66.65066187837812}. Best is trial 53 with value: 0.7866331898613104.\u001b[0m\n",
      "\u001b[32m[I 2020-11-02 09:22:09,045]\u001b[0m Trial 58 finished with value: 0.771983102183963 and parameters: {'classifier': 'RandomForest', 'n_estimators': 810, 'max_depth': 31.644911424684665}. Best is trial 53 with value: 0.7866331898613104.\u001b[0m\n",
      "\u001b[32m[I 2020-11-02 09:22:13,770]\u001b[0m Trial 59 finished with value: 0.7817391997449387 and parameters: {'classifier': 'RandomForest', 'n_estimators': 940, 'max_depth': 38.94118019878196}. Best is trial 53 with value: 0.7866331898613104.\u001b[0m\n",
      "\u001b[32m[I 2020-11-02 09:22:17,108]\u001b[0m Trial 60 finished with value: 0.7752271640363463 and parameters: {'classifier': 'RandomForest', 'n_estimators': 650, 'max_depth': 51.66647494094728}. Best is trial 53 with value: 0.7866331898613104.\u001b[0m\n",
      "\u001b[32m[I 2020-11-02 09:22:22,867]\u001b[0m Trial 61 finished with value: 0.7817471704128806 and parameters: {'classifier': 'RandomForest', 'n_estimators': 1100, 'max_depth': 17.174426281386157}. Best is trial 53 with value: 0.7866331898613104.\u001b[0m\n",
      "\u001b[32m[I 2020-11-02 09:22:27,061]\u001b[0m Trial 62 finished with value: 0.7784871672246134 and parameters: {'classifier': 'RandomForest', 'n_estimators': 870, 'max_depth': 20.87405110755}. Best is trial 53 with value: 0.7866331898613104.\u001b[0m\n",
      "\u001b[32m[I 2020-11-02 09:22:33,869]\u001b[0m Trial 63 finished with value: 0.7784791965566714 and parameters: {'classifier': 'RandomForest', 'n_estimators': 1410, 'max_depth': 11.79023447292615}. Best is trial 53 with value: 0.7866331898613104.\u001b[0m\n",
      "\u001b[32m[I 2020-11-02 09:22:39,859]\u001b[0m Trial 64 finished with value: 0.7817471704128806 and parameters: {'classifier': 'RandomForest', 'n_estimators': 1230, 'max_depth': 14.85943469633115}. Best is trial 53 with value: 0.7866331898613104.\u001b[0m\n",
      "\u001b[32m[I 2020-11-02 09:22:45,565]\u001b[0m Trial 65 finished with value: 0.7784951378925554 and parameters: {'classifier': 'RandomForest', 'n_estimators': 1150, 'max_depth': 46.980066868216426}. Best is trial 53 with value: 0.7866331898613104.\u001b[0m\n",
      "\u001b[32m[I 2020-11-02 09:22:50,449]\u001b[0m Trial 66 finished with value: 0.7736091184441256 and parameters: {'classifier': 'RandomForest', 'n_estimators': 1000, 'max_depth': 17.56742559300555}. Best is trial 53 with value: 0.7866331898613104.\u001b[0m\n",
      "\u001b[32m[I 2020-11-02 09:22:53,939]\u001b[0m Trial 67 finished with value: 0.780121154152718 and parameters: {'classifier': 'RandomForest', 'n_estimators': 720, 'max_depth': 23.52449500509615}. Best is trial 53 with value: 0.7866331898613104.\u001b[0m\n",
      "\u001b[32m[I 2020-11-02 09:22:59,524]\u001b[0m Trial 68 finished with value: 0.771975131516021 and parameters: {'classifier': 'RandomForest', 'n_estimators': 1200, 'max_depth': 12.767251299402945}. Best is trial 53 with value: 0.7866331898613104.\u001b[0m\n",
      "\u001b[32m[I 2020-11-02 09:22:59,591]\u001b[0m Trial 69 finished with value: 0.6530926191614858 and parameters: {'classifier': 'SVC', 'svc_c': 7.4524230141229975e-06}. Best is trial 53 with value: 0.7866331898613104.\u001b[0m\n"
     ]
    },
    {
     "name": "stderr",
     "output_type": "stream",
     "text": [
      "\u001b[32m[I 2020-11-02 09:23:01,477]\u001b[0m Trial 70 finished with value: 0.7784791965566714 and parameters: {'classifier': 'RandomForest', 'n_estimators': 420, 'max_depth': 16.127770594423716}. Best is trial 53 with value: 0.7866331898613104.\u001b[0m\n",
      "\u001b[32m[I 2020-11-02 09:23:05,679]\u001b[0m Trial 71 finished with value: 0.780113183484776 and parameters: {'classifier': 'RandomForest', 'n_estimators': 900, 'max_depth': 14.322196879346933}. Best is trial 53 with value: 0.7866331898613104.\u001b[0m\n",
      "\u001b[32m[I 2020-11-02 09:23:09,259]\u001b[0m Trial 72 finished with value: 0.7768611509644509 and parameters: {'classifier': 'RandomForest', 'n_estimators': 780, 'max_depth': 17.07266563758843}. Best is trial 53 with value: 0.7866331898613104.\u001b[0m\n",
      "\u001b[32m[I 2020-11-02 09:23:11,915]\u001b[0m Trial 73 finished with value: 0.7736091184441256 and parameters: {'classifier': 'RandomForest', 'n_estimators': 570, 'max_depth': 41.09623330287675}. Best is trial 53 with value: 0.7866331898613104.\u001b[0m\n",
      "\u001b[32m[I 2020-11-02 09:23:16,618]\u001b[0m Trial 74 finished with value: 0.7849992029332058 and parameters: {'classifier': 'RandomForest', 'n_estimators': 1030, 'max_depth': 20.08904148733808}. Best is trial 53 with value: 0.7866331898613104.\u001b[0m\n",
      "\u001b[32m[I 2020-11-02 09:23:21,597]\u001b[0m Trial 75 finished with value: 0.7849912322652638 and parameters: {'classifier': 'RandomForest', 'n_estimators': 1000, 'max_depth': 19.5474151746389}. Best is trial 53 with value: 0.7866331898613104.\u001b[0m\n",
      "\u001b[32m[I 2020-11-02 09:23:26,867]\u001b[0m Trial 76 finished with value: 0.7752351347042882 and parameters: {'classifier': 'RandomForest', 'n_estimators': 1000, 'max_depth': 19.823695013418078}. Best is trial 53 with value: 0.7866331898613104.\u001b[0m\n",
      "\u001b[32m[I 2020-11-02 09:23:31,528]\u001b[0m Trial 77 finished with value: 0.7817471704128806 and parameters: {'classifier': 'RandomForest', 'n_estimators': 960, 'max_depth': 22.25003005873674}. Best is trial 53 with value: 0.7866331898613104.\u001b[0m\n",
      "\u001b[32m[I 2020-11-02 09:23:36,637]\u001b[0m Trial 78 finished with value: 0.7784951378925554 and parameters: {'classifier': 'RandomForest', 'n_estimators': 1040, 'max_depth': 25.657905651309118}. Best is trial 53 with value: 0.7866331898613104.\u001b[0m\n",
      "\u001b[32m[I 2020-11-02 09:23:46,426]\u001b[0m Trial 79 finished with value: 0.7784951378925554 and parameters: {'classifier': 'RandomForest', 'n_estimators': 1970, 'max_depth': 28.79564258120934}. Best is trial 53 with value: 0.7866331898613104.\u001b[0m\n",
      "\u001b[32m[I 2020-11-02 09:23:50,036]\u001b[0m Trial 80 finished with value: 0.7736091184441256 and parameters: {'classifier': 'RandomForest', 'n_estimators': 730, 'max_depth': 62.55435323675805}. Best is trial 53 with value: 0.7866331898613104.\u001b[0m\n",
      "\u001b[32m[I 2020-11-02 09:23:54,530]\u001b[0m Trial 81 finished with value: 0.7768531802965088 and parameters: {'classifier': 'RandomForest', 'n_estimators': 850, 'max_depth': 20.77980234469542}. Best is trial 53 with value: 0.7866331898613104.\u001b[0m\n",
      "\u001b[32m[I 2020-11-02 09:23:59,795]\u001b[0m Trial 82 finished with value: 0.7687230989956958 and parameters: {'classifier': 'RandomForest', 'n_estimators': 1140, 'max_depth': 16.54285336299146}. Best is trial 53 with value: 0.7866331898613104.\u001b[0m\n",
      "\u001b[32m[I 2020-11-02 09:24:05,794]\u001b[0m Trial 83 finished with value: 0.78012912482066 and parameters: {'classifier': 'RandomForest', 'n_estimators': 1240, 'max_depth': 19.40103643171222}. Best is trial 53 with value: 0.7866331898613104.\u001b[0m\n",
      "\u001b[32m[I 2020-11-02 09:24:12,385]\u001b[0m Trial 84 finished with value: 0.780121154152718 and parameters: {'classifier': 'RandomForest', 'n_estimators': 1350, 'max_depth': 46.949075995213406}. Best is trial 53 with value: 0.7866331898613104.\u001b[0m\n",
      "\u001b[32m[I 2020-11-02 09:24:16,638]\u001b[0m Trial 85 finished with value: 0.7768611509644509 and parameters: {'classifier': 'RandomForest', 'n_estimators': 920, 'max_depth': 15.567236173454308}. Best is trial 53 with value: 0.7866331898613104.\u001b[0m\n",
      "\u001b[32m[I 2020-11-02 09:24:22,186]\u001b[0m Trial 86 finished with value: 0.7768611509644509 and parameters: {'classifier': 'RandomForest', 'n_estimators': 1170, 'max_depth': 54.04488730141169}. Best is trial 53 with value: 0.7866331898613104.\u001b[0m\n",
      "\u001b[32m[I 2020-11-02 09:24:27,719]\u001b[0m Trial 87 finished with value: 0.780121154152718 and parameters: {'classifier': 'RandomForest', 'n_estimators': 1070, 'max_depth': 43.89600115143939}. Best is trial 53 with value: 0.7866331898613104.\u001b[0m\n",
      "\u001b[32m[I 2020-11-02 09:24:31,707]\u001b[0m Trial 88 finished with value: 0.7784951378925554 and parameters: {'classifier': 'RandomForest', 'n_estimators': 800, 'max_depth': 18.73756028462819}. Best is trial 53 with value: 0.7866331898613104.\u001b[0m\n",
      "\u001b[32m[I 2020-11-02 09:24:34,570]\u001b[0m Trial 89 finished with value: 0.7817471704128806 and parameters: {'classifier': 'RandomForest', 'n_estimators': 600, 'max_depth': 34.925531843658185}. Best is trial 53 with value: 0.7866331898613104.\u001b[0m\n",
      "\u001b[32m[I 2020-11-02 09:24:34,669]\u001b[0m Trial 90 finished with value: 0.6530926191614858 and parameters: {'classifier': 'SVC', 'svc_c': 5015.867755687778}. Best is trial 53 with value: 0.7866331898613104.\u001b[0m\n",
      "\u001b[32m[I 2020-11-02 09:24:42,419]\u001b[0m Trial 91 finished with value: 0.7784951378925554 and parameters: {'classifier': 'RandomForest', 'n_estimators': 1560, 'max_depth': 41.100574014653475}. Best is trial 53 with value: 0.7866331898613104.\u001b[0m\n",
      "\u001b[32m[I 2020-11-02 09:24:51,189]\u001b[0m Trial 92 finished with value: 0.7784871672246134 and parameters: {'classifier': 'RandomForest', 'n_estimators': 1800, 'max_depth': 32.603617072184306}. Best is trial 53 with value: 0.7866331898613104.\u001b[0m\n",
      "\u001b[32m[I 2020-11-02 09:24:58,459]\u001b[0m Trial 93 finished with value: 0.780121154152718 and parameters: {'classifier': 'RandomForest', 'n_estimators': 1490, 'max_depth': 36.27293776361734}. Best is trial 53 with value: 0.7866331898613104.\u001b[0m\n",
      "\u001b[32m[I 2020-11-02 09:25:03,621]\u001b[0m Trial 94 finished with value: 0.7801052128168341 and parameters: {'classifier': 'RandomForest', 'n_estimators': 990, 'max_depth': 23.011109116243578}. Best is trial 53 with value: 0.7866331898613104.\u001b[0m\n",
      "\u001b[32m[I 2020-11-02 09:25:12,188]\u001b[0m Trial 95 finished with value: 0.7833652160051012 and parameters: {'classifier': 'RandomForest', 'n_estimators': 1670, 'max_depth': 49.13584471426112}. Best is trial 53 with value: 0.7866331898613104.\u001b[0m\n",
      "\u001b[32m[I 2020-11-02 09:25:15,407]\u001b[0m Trial 96 finished with value: 0.7784951378925554 and parameters: {'classifier': 'RandomForest', 'n_estimators': 660, 'max_depth': 14.041636780684783}. Best is trial 53 with value: 0.7866331898613104.\u001b[0m\n",
      "\u001b[32m[I 2020-11-02 09:25:20,052]\u001b[0m Trial 97 finished with value: 0.771983102183963 and parameters: {'classifier': 'RandomForest', 'n_estimators': 880, 'max_depth': 20.762676681391447}. Best is trial 53 with value: 0.7866331898613104.\u001b[0m\n",
      "\u001b[32m[I 2020-11-02 09:25:26,155]\u001b[0m Trial 98 finished with value: 0.7768691216323927 and parameters: {'classifier': 'RandomForest', 'n_estimators': 1280, 'max_depth': 43.637896392685064}. Best is trial 53 with value: 0.7866331898613104.\u001b[0m\n",
      "\u001b[32m[I 2020-11-02 09:25:29,441]\u001b[0m Trial 99 finished with value: 0.7800972421488921 and parameters: {'classifier': 'RandomForest', 'n_estimators': 670, 'max_depth': 29.582069458787537}. Best is trial 53 with value: 0.7866331898613104.\u001b[0m\n"
     ]
    },
    {
     "name": "stdout",
     "output_type": "stream",
     "text": [
      "Accuracy: 0.7866331898613104\n",
      "Best hyperparameters: {'classifier': 'RandomForest', 'n_estimators': 810, 'max_depth': 22.167110521789635}\n"
     ]
    }
   ],
   "source": [
    "study = optuna.create_study(direction='maximize')\n",
    "study.optimize(objective, n_trials=100)\n",
    "\n",
    "trial = study.best_trial\n",
    "\n",
    "print('Accuracy: {}'.format(trial.value))\n",
    "print(\"Best hyperparameters: {}\".format(trial.params))"
   ]
  },
  {
   "cell_type": "code",
   "execution_count": 43,
   "metadata": {},
   "outputs": [
    {
     "data": {
      "text/plain": [
       "FrozenTrial(number=53, value=0.7866331898613104, datetime_start=datetime.datetime(2020, 11, 2, 9, 21, 48, 300388), datetime_complete=datetime.datetime(2020, 11, 2, 9, 21, 52, 285607), params={'classifier': 'RandomForest', 'n_estimators': 810, 'max_depth': 22.167110521789635}, distributions={'classifier': CategoricalDistribution(choices=('RandomForest', 'SVC')), 'n_estimators': IntUniformDistribution(high=2000, low=200, step=10), 'max_depth': LogUniformDistribution(high=100, low=10)}, user_attrs={}, system_attrs={}, intermediate_values={}, trial_id=53, state=TrialState.COMPLETE)"
      ]
     },
     "execution_count": 43,
     "metadata": {},
     "output_type": "execute_result"
    }
   ],
   "source": [
    "trial"
   ]
  },
  {
   "cell_type": "code",
   "execution_count": 44,
   "metadata": {},
   "outputs": [
    {
     "data": {
      "text/plain": [
       "{'classifier': 'RandomForest',\n",
       " 'n_estimators': 810,\n",
       " 'max_depth': 22.167110521789635}"
      ]
     },
     "execution_count": 44,
     "metadata": {},
     "output_type": "execute_result"
    }
   ],
   "source": [
    "study.best_params"
   ]
  },
  {
   "cell_type": "code",
   "execution_count": 45,
   "metadata": {},
   "outputs": [
    {
     "data": {
      "text/plain": [
       "RandomForestClassifier(max_depth=30, n_estimators=330)"
      ]
     },
     "execution_count": 45,
     "metadata": {},
     "output_type": "execute_result"
    }
   ],
   "source": [
    "rf=RandomForestClassifier(n_estimators=330,max_depth=30)\n",
    "rf.fit(X_train,y_train)"
   ]
  },
  {
   "cell_type": "code",
   "execution_count": 46,
   "metadata": {},
   "outputs": [
    {
     "name": "stdout",
     "output_type": "stream",
     "text": [
      "[[79 20]\n",
      " [18 37]]\n",
      "0.7532467532467533\n",
      "              precision    recall  f1-score   support\n",
      "\n",
      "           0       0.81      0.80      0.81        99\n",
      "           1       0.65      0.67      0.66        55\n",
      "\n",
      "    accuracy                           0.75       154\n",
      "   macro avg       0.73      0.74      0.73       154\n",
      "weighted avg       0.76      0.75      0.75       154\n",
      "\n"
     ]
    }
   ],
   "source": [
    "y_pred=rf.predict(X_test)\n",
    "print(confusion_matrix(y_test,y_pred))\n",
    "print(accuracy_score(y_test,y_pred))\n",
    "print(classification_report(y_test,y_pred))"
   ]
  },
  {
   "cell_type": "code",
   "execution_count": null,
   "metadata": {},
   "outputs": [],
   "source": []
  }
 ],
 "metadata": {
  "kernelspec": {
   "display_name": "Python 3",
   "language": "python",
   "name": "python3"
  },
  "language_info": {
   "codemirror_mode": {
    "name": "ipython",
    "version": 3
   },
   "file_extension": ".py",
   "mimetype": "text/x-python",
   "name": "python",
   "nbconvert_exporter": "python",
   "pygments_lexer": "ipython3",
   "version": "3.7.6"
  }
 },
 "nbformat": 4,
 "nbformat_minor": 4
}
